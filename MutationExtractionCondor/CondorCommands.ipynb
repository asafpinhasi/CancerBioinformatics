{
 "cells": [
  {
   "cell_type": "markdown",
   "id": "2b9a72d1-6942-404c-be07-19a24354f877",
   "metadata": {},
   "source": [
    "Run the following command in the folder of your project in order to download chromosome files into chr_files"
   ]
  },
  {
   "cell_type": "code",
   "execution_count": null,
   "id": "b504c55d-0b43-4723-b65a-d72bdef77cf4",
   "metadata": {},
   "outputs": [],
   "source": [
    "for i in {1..22} X Y; do wget -nc -P chr_files https://hgdownload.soe.ucsc.edu/goldenPath/hg38/multiz100way/maf/chr${i}.maf.gz; done"
   ]
  },
  {
   "cell_type": "markdown",
   "id": "9e5b2909-e4e4-4fd9-a751-4ddfe343c49b",
   "metadata": {},
   "source": [
    "Make sure the permissions to the scripts are good"
   ]
  },
  {
   "cell_type": "code",
   "execution_count": null,
   "id": "d672c86e-034c-4eea-9c1d-f4cc8693222e",
   "metadata": {},
   "outputs": [],
   "source": [
    "chmod +x run_species_mut_extractor.sh run_chromosome_extraction.py"
   ]
  },
  {
   "cell_type": "markdown",
   "id": "0f8f4126-5c19-42e7-9c11-2079d73863ac",
   "metadata": {},
   "source": [
    "Submit the jobs to condor.\n",
    "This should take a few hours until all jobs finish executing. At the end, all mutation files will be in mutation_files directory."
   ]
  },
  {
   "cell_type": "code",
   "execution_count": null,
   "id": "f341cffd-e3e1-42ba-a13b-593abe3e16ba",
   "metadata": {},
   "outputs": [],
   "source": [
    "condor_submit run_species_mut_extractor.submit"
   ]
  }
 ],
 "metadata": {
  "kernelspec": {
   "display_name": "Python 3 (ipykernel)",
   "language": "python",
   "name": "python3"
  },
  "language_info": {
   "codemirror_mode": {
    "name": "ipython",
    "version": 3
   },
   "file_extension": ".py",
   "mimetype": "text/x-python",
   "name": "python",
   "nbconvert_exporter": "python",
   "pygments_lexer": "ipython3",
   "version": "3.9.12"
  }
 },
 "nbformat": 4,
 "nbformat_minor": 5
}
