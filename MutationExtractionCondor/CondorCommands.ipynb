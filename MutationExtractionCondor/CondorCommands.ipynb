{
 "cells": [
  {
   "cell_type": "markdown",
   "id": "2b9a72d1-6942-404c-be07-19a24354f877",
   "metadata": {},
   "source": [
    "Run the following command in the folder of your project in order to download chromosome files into chr_files"
   ]
  },
  {
   "cell_type": "code",
   "execution_count": null,
   "id": "b504c55d-0b43-4723-b65a-d72bdef77cf4",
   "metadata": {},
   "outputs": [],
   "source": [
    "for i in {1..22} X Y; do wget -nc -P chr_files https://hgdownload.soe.ucsc.edu/goldenPath/hg38/multiz100way/maf/chr${i}.maf.gz; done"
   ]
  },
  {
   "cell_type": "raw",
   "id": "d2a7a240-968a-4e60-b5b3-8a8410c8d35f",
   "metadata": {},
   "source": [
    "Make sure the permissions to the scripts are good"
   ]
  },
  {
   "cell_type": "code",
   "execution_count": null,
   "id": "d672c86e-034c-4eea-9c1d-f4cc8693222e",
   "metadata": {},
   "outputs": [],
   "source": [
    "chmod +x run_species_mut_extractor.sh run_chromosome_extraction.py"
   ]
  },
  {
   "cell_type": "raw",
   "id": "39627171-c1fa-4f78-9d23-745a953ea741",
   "metadata": {},
   "source": [
    "Submit the jobs to condor.\n",
    "This should take a few hours until all jobs finish executing. At the end, all mutation files will be in mutation_files directory."
   ]
  },
  {
   "cell_type": "code",
   "execution_count": null,
   "id": "f341cffd-e3e1-42ba-a13b-593abe3e16ba",
   "metadata": {},
   "outputs": [],
   "source": [
    "condor_submit run_species_mut_extractor.submit"
   ]
  }
 ],
 "metadata": {
  "kernelspec": {
   "display_name": "Python 3 (ipykernel)",
   "language": "python",
   "name": "python3"
  },
  "language_info": {
   "codemirror_mode": {
    "name": "ipython",
    "version": 3
   },
   "file_extension": ".py",
   "mimetype": "text/x-python",
   "name": "python",
   "nbconvert_exporter": "python",
   "pygments_lexer": "ipython3",
   "version": "3.9.12"
  }
 },
 "nbformat": 4,
 "nbformat_minor": 5
}
